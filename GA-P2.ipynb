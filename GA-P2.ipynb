{
 "cells": [
  {
   "cell_type": "markdown",
   "metadata": {},
   "source": [
    "# IT Desk Database"
   ]
  },
  {
   "cell_type": "markdown",
   "metadata": {},
   "source": [
    "The database that we have created serves to detail an IT repair desk which deals with repairing and servicing customer’s computers. The database for the repair desk consists of seven entities. These entities consist of “Employees”, “Job Title”, “Skill Set”, “Degree/Certification”, “Assignment”, “PCs To Be Repaired”, and “IT Repair Desk”. The repair desk will take in end-user data in the form of the customer's PC problem as well as the date in which the computer was given to the IT desk. Once this computer has been handed over to the support team; details surrounding the issue will then determine the skill set required to fix the issue. With this process, there is a unique assignment that has therefore been created for the computer. This assignment will draw on employees who have the particular skills required to combat the issue with the computer. For a particular employee to fit under the required skill group they will have to have a certain degree and or certification to their name. This then ensuring that the proper staff is working on an issue that fits their knowledge base. The Job Title entity is meant to give a description for each of the employees; such as their title, pay, and date of hire. Employees will have an assignment within their respective entity so that you can ensure the workload is distributed more evenly across the company and that not only one employee is tasked with all the repairs. Assignments may also require more than one employee based on the needs of the problem identified. The repair queue, represented by the PCs To Be Repaired entity, will ensure that repairs are done in a timely manner based off of the time in which they were received. Finally, the main IT Repair Desk entity will house the current que, hours of the business based on the date, and location(s) of the business. Next, constraints which are the rules enforced on the data columns of the tables. These are used to limit the type of data that can go into a table. With these limitations made by the constraints, we are able to ensure that there is accuracy and reliability of the data in the database. Such constraints could be either on a column level or a table level. Within this database there are constraints such as there only being certain options for title and employee within the job title section. This is due to there only being so many employees who work for the IT repair desk with there title being limited to the positions available. The positions/titles are CEO, supervisor, troubleshooter, customer relations, and security/antivirus specialist. As well as, each of these titles having a set pay per hour which ranges from $12 to $25. Another constraint is for the skill set required in which there will be skills correlating to the degree/certification needed. The skills are cybersecurity, network engineering, data analysis, computer science, security and risk analysis, and human-centered design and development. This brings me too the required degrees and certifications made up of a cybersecurity (BA), computer science (BA), computer engineering (BA), data analyst (BA), and human-centered design and development (BA). Taking this previous data into consideration, an assignment will be given which ranges from one to six and is based off of the skill set that they possess. Last, is the hours and location within IT repair desk which will have constraints due to the desk maintaining specific hours of availability as well as its location which is not moved."
   ]
  },
  {
   "cell_type": "markdown",
   "metadata": {},
   "source": [
    "# Entity Relationship Model"
   ]
  },
  {
   "cell_type": "markdown",
   "metadata": {},
   "source": [
    "<img src=\"GA-1-Idea (1).png\" />"
   ]
  },
  {
   "cell_type": "markdown",
   "metadata": {},
   "source": [
    "# Entity Table Examples"
   ]
  },
  {
   "cell_type": "markdown",
   "metadata": {},
   "source": [
    "Assignments Entity"
   ]
  },
  {
   "cell_type": "markdown",
   "metadata": {},
   "source": [
    "<img src=\"Assignments.png\" />"
   ]
  },
  {
   "cell_type": "markdown",
   "metadata": {},
   "source": [
    "Degree/Certification Entity"
   ]
  },
  {
   "cell_type": "markdown",
   "metadata": {},
   "source": [
    "<img src=\"Degree.png\" />"
   ]
  },
  {
   "cell_type": "markdown",
   "metadata": {},
   "source": [
    "Employees Entity"
   ]
  },
  {
   "cell_type": "markdown",
   "metadata": {},
   "source": [
    "<img src=\"Employees.png\" />"
   ]
  },
  {
   "cell_type": "markdown",
   "metadata": {},
   "source": [
    "Job Title Entity"
   ]
  },
  {
   "cell_type": "markdown",
   "metadata": {},
   "source": [
    "<img src=\"Job Title.png\" />"
   ]
  },
  {
   "cell_type": "markdown",
   "metadata": {},
   "source": [
    "PCs To Be Repaired Entity"
   ]
  },
  {
   "cell_type": "markdown",
   "metadata": {},
   "source": [
    "<img src=\"PCQueue.png\" />"
   ]
  },
  {
   "cell_type": "markdown",
   "metadata": {},
   "source": [
    "Skillset Entity"
   ]
  },
  {
   "cell_type": "markdown",
   "metadata": {},
   "source": [
    "<img src=\"Skillset.png\" />"
   ]
  },
  {
   "cell_type": "code",
   "execution_count": null,
   "metadata": {},
   "outputs": [],
   "source": []
  }
 ],
 "metadata": {
  "kernelspec": {
   "display_name": "Python 3",
   "language": "python",
   "name": "python3"
  },
  "language_info": {
   "codemirror_mode": {
    "name": "ipython",
    "version": 3
   },
   "file_extension": ".py",
   "mimetype": "text/x-python",
   "name": "python",
   "nbconvert_exporter": "python",
   "pygments_lexer": "ipython3",
   "version": "3.7.3"
  }
 },
 "nbformat": 4,
 "nbformat_minor": 2
}
